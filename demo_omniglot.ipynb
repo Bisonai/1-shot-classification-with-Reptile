{
 "cells": [
  {
   "cell_type": "code",
   "execution_count": 1,
   "metadata": {},
   "outputs": [],
   "source": [
    "import tensorflow as tf\n",
    "tf.logging.set_verbosity(tf.logging.ERROR)\n",
    "\n",
    "import tensorflow_datasets as tfds\n",
    "\n",
    "import numpy as np\n",
    "import matplotlib.pyplot as plt\n",
    "from skimage.transform import resize\n",
    "import random\n",
    "\n",
    "from fine_tuning.pretrained_models.bisonai.models import OmniglotModelBisonai"
   ]
  },
  {
   "cell_type": "code",
   "execution_count": 2,
   "metadata": {},
   "outputs": [],
   "source": [
    "### Parameters\n",
    "\n",
    "num_classes = 3\n",
    "learning_rate = 0.001\n",
    "epochs = 5\n",
    "checkpoint_path = \"fine_tuning/pretrained_models/bisonai/1shot_3way_bisonai_ckpt_o15t/model.ckpt-99999\"\n",
    "\n",
    "def softmax(x):\n",
    "    e = np.exp(x)\n",
    "    return (e / np.sum(e, axis=1, keepdims=True))"
   ]
  },
  {
   "cell_type": "markdown",
   "metadata": {},
   "source": [
    "## Data for fine-tuning & prediction"
   ]
  },
  {
   "cell_type": "code",
   "execution_count": 3,
   "metadata": {},
   "outputs": [],
   "source": [
    "sess = tf.Session()\n",
    "\n",
    "omniglot_train = tfds.load(name=\"omniglot\", split=tfds.Split.TRAIN).batch(2000)\n",
    "omniglot_example = omniglot_train.take(1)\n",
    "omniglot_example_iter = omniglot_example.make_initializable_iterator()\n",
    "sess.run(omniglot_example_iter.initializer)\n",
    "\n",
    "data = omniglot_example_iter.get_next()\n",
    "image = data['image']\n",
    "label = data['label']\n",
    "x, y = sess.run([image,label])\n",
    "\n",
    "X_train = resize(np.array(x[:num_classes,:,:,:])/255.0, (3, 28, 28, 1))\n",
    "y_train = np.array(y[:num_classes])"
   ]
  },
  {
   "cell_type": "code",
   "execution_count": 4,
   "metadata": {},
   "outputs": [
    {
     "name": "stdout",
     "output_type": "stream",
     "text": [
      "(3, 28, 28, 1)\n"
     ]
    },
    {
     "data": {
      "text/plain": [
       "array([ 43, 512, 756])"
      ]
     },
     "execution_count": 4,
     "metadata": {},
     "output_type": "execute_result"
    }
   ],
   "source": [
    "print(X_train.shape)\n",
    "y_train"
   ]
  },
  {
   "cell_type": "code",
   "execution_count": 5,
   "metadata": {},
   "outputs": [
    {
     "data": {
      "image/png": "[encoded data removed]",
      "text/plain": [
       "<Figure size 1440x1440 with 3 Axes>"
      ]
     },
     "metadata": {
      "needs_background": "light"
     },
     "output_type": "display_data"
    }
   ],
   "source": [
    "### Showing Images of the 3 classes after reshape 28x28x1\n",
    "\n",
    "plt.figure(figsize=(20,20))\n",
    "plt.subplot(131)\n",
    "imgplot = plt.imshow(X_train[0,:,:,0], cmap=\"gist_gray\")\n",
    "plt.subplot(132)\n",
    "imgplot = plt.imshow(X_train[1,:,:,0], cmap=\"gist_gray\")\n",
    "plt.subplot(133)\n",
    "imgplot = plt.imshow(X_train[2,:,:,0], cmap=\"gist_gray\")"
   ]
  },
  {
   "cell_type": "code",
   "execution_count": 6,
   "metadata": {
    "scrolled": false
   },
   "outputs": [],
   "source": [
    "res = sum([np.where(y == c)[0].tolist() for c in y_train], [])\n",
    "[res.remove(i) for i in range(num_classes)]\n",
    "\n",
    "ind = random.choice(res)\n",
    "X_predict = resize(x[ind,:,:,0]/255.0, (28,28)).reshape((1, 28, 28,1))\n",
    "y_predict = y[ind]"
   ]
  },
  {
   "cell_type": "code",
   "execution_count": 7,
   "metadata": {},
   "outputs": [
    {
     "data": {
      "image/png": "[encoded data removed]",
      "text/plain": [
       "<Figure size 432x432 with 1 Axes>"
      ]
     },
     "metadata": {
      "needs_background": "light"
     },
     "output_type": "display_data"
    }
   ],
   "source": [
    "###### Showing the image with class to predict\n",
    "\n",
    "plt.figure(figsize=(6,6))\n",
    "imgplot = plt.imshow(X_predict[0,:,:,0], cmap=\"gist_gray\")"
   ]
  },
  {
   "cell_type": "markdown",
   "metadata": {},
   "source": [
    "## Preparing the model & prediction"
   ]
  },
  {
   "cell_type": "code",
   "execution_count": 8,
   "metadata": {
    "scrolled": false
   },
   "outputs": [],
   "source": [
    "model = OmniglotModelBisonai(num_classes=3, **{'learning_rate':learning_rate})\n",
    "#model = OmniglotModelBisonai(num_classes=3)\n",
    "saver = tf.train.Saver()\n",
    "saver.restore(sess, checkpoint_path)\n",
    "\n",
    "# for i in tf.all_variables():\n",
    "#     if \"Adam_1\" in i.name:\n",
    "#         sess.run(tf.assign(i,i/(tf.sqrt(i) + 1e-5)))"
   ]
  },
  {
   "cell_type": "code",
   "execution_count": 9,
   "metadata": {
    "scrolled": false
   },
   "outputs": [
    {
     "name": "stdout",
     "output_type": "stream",
     "text": [
      "loss [1.2374094 1.3336678 0.8046972]\n",
      "test softmax [[0.335747   0.34607136 0.3181816 ]]\n",
      "loss [0.04249357 0.00072965 0.02519977]\n",
      "test softmax [[0.22182344 0.4568719  0.32130465]]\n",
      "loss [0.03342202 0.00070869 0.02104804]\n",
      "test softmax [[0.21951723 0.45860305 0.32187977]]\n",
      "loss [0.0276496  0.00068915 0.01804296]\n",
      "test softmax [[0.21762924 0.46002695 0.32234374]]\n",
      "loss [0.02359584 0.00067307 0.01580474]\n",
      "test softmax [[0.21607248 0.4612106  0.3227169 ]]\n",
      "The predicted class is 512 and the real class is 512.\n",
      "The probability distribution is [[0.21476181 0.46220347 0.32303482]].\n"
     ]
    }
   ],
   "source": [
    "y_train_label = np.array([0, 1, 2])\n",
    "\n",
    "adam_var = [i for i in tf.all_variables() if \"Adam_1\" in i.name]\n",
    "\n",
    "for e in range(epochs):\n",
    "#     grad_temp, logits, loss, _ = sess.run([tf.gradients(model.loss, tf.trainable_variables()), model.logits, model.loss, tf.compat.v1.get_collection(tf.compat.v1.GraphKeys.UPDATE_OPS)], feed_dict={model.input_ph: X_train.reshape(X_train.shape[:3]), model.label_ph: y_train_label})\n",
    "#     #print(grad_temp)\n",
    "#     print(\"softmax\", softmax(logits))\n",
    "#     print(\"loss\", loss)\n",
    "#     for i,j,k in zip(tf.trainable_variables(), grad_temp, adam_var):\n",
    "#         sess.run(tf.assign(i,i-j*k*learning_rate))\n",
    "#         #print(sess.run(j*k*learning_rate))\n",
    "\n",
    "    loss = sess.run(model.loss, feed_dict={model.input_ph: X_train.reshape(X_train.shape[:3]), model.label_ph: y_train_label})\n",
    "    print(\"loss\", loss)\n",
    "\n",
    "    logits = sess.run(model.logits, feed_dict={model.input_ph: X_predict.reshape(X_predict.shape[:3])})\n",
    "    print(\"test softmax\", softmax(logits))\n",
    "    sess.run(model.minimize_op, feed_dict={model.input_ph: X_train.reshape(X_train.shape[:3]), model.label_ph:y_train_label})\n",
    "result, logits = sess.run([model.predictions, model.logits], feed_dict={model.input_ph: X_predict.reshape(X_predict.shape[:3])})\n",
    "\n",
    "print(\"The predicted class is {} and the real class is {}.\".format(y_train[result[0]],y_predict))\n",
    "print(\"The probability distribution is {}.\".format(softmax(logits)))"
   ]
  },
  {
   "cell_type": "code",
   "execution_count": null,
   "metadata": {},
   "outputs": [],
   "source": []
  }
 ],
 "metadata": {
  "kernelspec": {
   "display_name": "Python 3",
   "language": "python",
   "name": "python3"
  },
  "language_info": {
   "codemirror_mode": {
    "name": "ipython",
    "version": 3
   },
   "file_extension": ".py",
   "mimetype": "text/x-python",
   "name": "python",
   "nbconvert_exporter": "python",
   "pygments_lexer": "ipython3",
   "version": "3.7.3"
  }
 },
 "nbformat": 4,
 "nbformat_minor": 2
}
