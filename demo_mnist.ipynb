{
 "cells": [
  {
   "cell_type": "code",
   "execution_count": 1,
   "metadata": {},
   "outputs": [],
   "source": [
    "import tensorflow as tf\n",
    "tf.logging.set_verbosity(tf.logging.ERROR)\n",
    "\n",
    "import tensorflow_datasets as tfds\n",
    "\n",
    "import numpy as np\n",
    "import matplotlib.pyplot as plt\n",
    "from skimage.transform import resize\n",
    "import random\n",
    "\n",
    "from fine_tuning.pretrained_models.bisonai.models import OmniglotModelBisonai"
   ]
  },
  {
   "cell_type": "code",
   "execution_count": 3,
   "metadata": {},
   "outputs": [],
   "source": [
    "### Parameters\n",
    "\n",
    "num_classes = 3\n",
    "learning_rate = 0.001\n",
    "epochs = 5\n",
    "checkpoint_path = \"fine_tuning/pretrained_models/bisonai/1shot_3way_bisonai_ckpt_o15t/model.ckpt-99999\"\n",
    "\n",
    "def softmax(x):\n",
    "    e = np.exp(x)\n",
    "    return (e / np.sum(e, axis=1, keepdims=True))"
   ]
  },
  {
   "cell_type": "markdown",
   "metadata": {},
   "source": [
    "## Data for fine-tuning & prediction"
   ]
  },
  {
   "cell_type": "code",
   "execution_count": 4,
   "metadata": {},
   "outputs": [
    {
     "name": "stdout",
     "output_type": "stream",
     "text": [
      "(3, 28, 28, 1)\n",
      "(3,)\n"
     ]
    }
   ],
   "source": [
    "sess = tf.Session()\n",
    "\n",
    "mnist_train = tfds.load(name=\"mnist\", split=tfds.Split.TRAIN).batch(2000)\n",
    "mnist_example = mnist_train.take(1)\n",
    "mnist_example_iter = mnist_example.make_initializable_iterator()\n",
    "sess.run(mnist_example_iter.initializer)\n",
    "\n",
    "data = mnist_example_iter.get_next()\n",
    "image = data['image']\n",
    "label = data['label']\n",
    "x, y = sess.run([image,label])\n",
    "\n",
    "X_train = np.array(1-x[:num_classes,:,:,:]/255.0).reshape(3, 28, 28, 1)\n",
    "y_train = np.array(y[:num_classes])\n",
    "\n",
    "print(X_train.shape)\n",
    "print(y_train.shape)"
   ]
  },
  {
   "cell_type": "code",
   "execution_count": 5,
   "metadata": {},
   "outputs": [
    {
     "data": {
      "text/plain": [
       "array([9, 0, 8])"
      ]
     },
     "execution_count": 5,
     "metadata": {},
     "output_type": "execute_result"
    }
   ],
   "source": [
    "y_train"
   ]
  },
  {
   "cell_type": "code",
   "execution_count": 6,
   "metadata": {},
   "outputs": [
    {
     "data": {
      "image/png": "[encoded data removed]",
      "text/plain": [
       "<Figure size 1440x1440 with 3 Axes>"
      ]
     },
     "metadata": {
      "needs_background": "light"
     },
     "output_type": "display_data"
    }
   ],
   "source": [
    "### Showing Images of the 3 classes after reshape 28x28x1\n",
    "\n",
    "plt.figure(figsize=(20,20))\n",
    "plt.subplot(131)\n",
    "imgplot = plt.imshow(X_train[0,:,:,0], cmap=\"gist_gray\")\n",
    "plt.subplot(132)\n",
    "imgplot = plt.imshow(X_train[1,:,:,0], cmap=\"gist_gray\")\n",
    "plt.subplot(133)\n",
    "imgplot = plt.imshow(X_train[2,:,:,0], cmap=\"gist_gray\")"
   ]
  },
  {
   "cell_type": "code",
   "execution_count": 7,
   "metadata": {},
   "outputs": [
    {
     "name": "stdout",
     "output_type": "stream",
     "text": [
      "(1, 28, 28, 1)\n"
     ]
    }
   ],
   "source": [
    "res = sum([np.where(y == c)[0].tolist() for c in y_train], [])\n",
    "[res.remove(i) for i in range(num_classes)]\n",
    "\n",
    "ind = random.choice(res)\n",
    "X_predict = np.array(1-x[ind,:,:,0]/255.0).reshape((1, 28, 28,1))\n",
    "y_predict = y[ind]\n",
    "\n",
    "print(X_predict.shape)"
   ]
  },
  {
   "cell_type": "code",
   "execution_count": 8,
   "metadata": {},
   "outputs": [
    {
     "data": {
      "image/png": "[encoded data removed]",
      "text/plain": [
       "<Figure size 432x432 with 1 Axes>"
      ]
     },
     "metadata": {
      "needs_background": "light"
     },
     "output_type": "display_data"
    }
   ],
   "source": [
    "###### Showing the image with class to predict\n",
    "\n",
    "plt.figure(figsize=(6,6))\n",
    "imgplot = plt.imshow(X_predict[0,:,:,0], cmap=\"gist_gray\")"
   ]
  },
  {
   "cell_type": "markdown",
   "metadata": {},
   "source": [
    "## Preparing the model & prediction"
   ]
  },
  {
   "cell_type": "code",
   "execution_count": 9,
   "metadata": {
    "scrolled": false
   },
   "outputs": [],
   "source": [
    "model = OmniglotModelBisonai(num_classes=3, **{'learning_rate':learning_rate})\n",
    "saver = tf.train.Saver()\n",
    "saver.restore(sess, checkpoint_path)\n",
    "\n",
    "for i in tf.all_variables():\n",
    "    if \"Adam_1\" in i.name:\n",
    "        sess.run(tf.assign(i,i/(tf.sqrt(i) + 1e-5)))"
   ]
  },
  {
   "cell_type": "code",
   "execution_count": 10,
   "metadata": {
    "scrolled": false
   },
   "outputs": [
    {
     "name": "stdout",
     "output_type": "stream",
     "text": [
      "softmax [[0.26369599 0.33228844 0.4040156 ]\n",
      " [0.3272458  0.30374083 0.36901334]\n",
      " [0.3244182  0.33993706 0.3356448 ]]\n",
      "loss 3.6162405\n",
      "test softmax [[0.1745147  0.60386    0.22162524]]\n",
      "softmax [[9.9308097e-01 3.2547930e-06 6.9157165e-03]\n",
      " [1.4965745e-10 1.0000000e+00 1.2664837e-09]\n",
      " [4.1042344e-04 2.6303879e-09 9.9958956e-01]]\n",
      "loss 0.007353382\n",
      "test softmax [[0.17385891 0.6043238  0.22181728]]\n",
      "softmax [[9.9464965e-01 3.0111014e-06 5.3473776e-03]\n",
      " [1.4802001e-10 1.0000000e+00 1.3641439e-09]\n",
      " [4.0675496e-04 2.6034643e-09 9.9959326e-01]]\n",
      "loss 0.005771563\n",
      "test softmax [[0.173278  0.6046543 0.2220677]]\n",
      "softmax [[9.9562430e-01 2.8292438e-06 4.3728449e-03]\n",
      " [1.4679459e-10 1.0000000e+00 1.4464141e-09]\n",
      " [4.0340607e-04 2.5841873e-09 9.9959660e-01]]\n",
      "loss 0.0047887014\n",
      "test softmax [[0.17275183 0.6049029  0.22234532]]\n",
      "softmax [[9.9622053e-01 2.7250323e-06 3.7767189e-03]\n",
      " [1.4586003e-10 1.0000000e+00 1.5178655e-09]\n",
      " [4.0039280e-04 2.5681055e-09 9.9959964e-01]]\n",
      "loss 0.00418712\n",
      "test softmax [[0.17217343 0.6051629  0.22266369]]\n",
      "The result is 0.\n",
      "The probability distribution is [[0.17217343 0.6051629  0.22266369]].\n"
     ]
    }
   ],
   "source": [
    "y_train_label = np.array([0, 1, 2])\n",
    "\n",
    "adam_var = [i for i in tf.all_variables() if \"Adam_1\" in i.name]\n",
    "\n",
    "for e in range(epochs):\n",
    "    grad_temp, logits, loss, _ = sess.run([tf.gradients(model.loss, tf.trainable_variables()), model.logits, model.loss, tf.compat.v1.get_collection(tf.compat.v1.GraphKeys.UPDATE_OPS)], feed_dict={model.input_ph: X_train.reshape(X_train.shape[:3]), model.label_ph: y_train_label})\n",
    "    #print(grad_temp)\n",
    "    print(\"softmax\", softmax(logits))\n",
    "    print(\"loss\", np.sum(loss))\n",
    "    for i,j,k in zip(tf.trainable_variables(), grad_temp, adam_var):\n",
    "        sess.run(tf.assign(i,i-j*k*learning_rate))\n",
    "        #print(sess.run(j*k*learning_rate))\n",
    "    \n",
    "    logits = sess.run(model.logits, feed_dict={model.input_ph: X_predict.reshape(X_predict.shape[:3])})\n",
    "    print(\"test softmax\", softmax(logits))\n",
    "result, logits = sess.run([model.predictions, model.logits], feed_dict={model.input_ph: X_predict.reshape(X_predict.shape[:3])})\n",
    "\n",
    "print(\"The result is {}.\".format(y_train[result[0]]))\n",
    "print(\"The probability distribution is {}.\".format(softmax(logits)))"
   ]
  }
 ],
 "metadata": {
  "kernelspec": {
   "display_name": "Python 3",
   "language": "python",
   "name": "python3"
  },
  "language_info": {
   "codemirror_mode": {
    "name": "ipython",
    "version": 3
   },
   "file_extension": ".py",
   "mimetype": "text/x-python",
   "name": "python",
   "nbconvert_exporter": "python",
   "pygments_lexer": "ipython3",
   "version": "3.7.3"
  }
 },
 "nbformat": 4,
 "nbformat_minor": 2
}
