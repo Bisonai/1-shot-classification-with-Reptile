{
 "cells": [
  {
   "cell_type": "code",
   "execution_count": 1,
   "metadata": {},
   "outputs": [],
   "source": [
    "import tensorflow as tf\n",
    "tf.logging.set_verbosity(tf.logging.ERROR)\n",
    "\n",
    "import tensorflow_datasets as tfds\n",
    "\n",
    "import numpy as np\n",
    "import matplotlib.pyplot as plt\n",
    "from skimage.transform import resize\n",
    "import random\n",
    "\n",
    "from fine_tuning.pretrained_models.bisonai.models import OmniglotModelBisonai"
   ]
  },
  {
   "cell_type": "code",
   "execution_count": 2,
   "metadata": {},
   "outputs": [],
   "source": [
    "### Parameters\n",
    "\n",
    "num_classes = 3\n",
    "learning_rate = 0.0001\n",
    "epochs = 5\n",
    "checkpoint_path = \"fine_tuning/pretrained_models/bisonai/1shot_3way_bisonai_ckpt_o15t/model.ckpt-99999\"\n",
    "\n",
    "def softmax(x):\n",
    "    e = np.exp(x)\n",
    "    return (e / np.sum(e, axis=1, keepdims=True))"
   ]
  },
  {
   "cell_type": "markdown",
   "metadata": {},
   "source": [
    "## Data for fine-tuning & prediction"
   ]
  },
  {
   "cell_type": "code",
   "execution_count": 3,
   "metadata": {},
   "outputs": [],
   "source": [
    "sess = tf.Session()\n",
    "\n",
    "omniglot_train = tfds.load(name=\"omniglot\", split=tfds.Split.TRAIN).batch(2000)\n",
    "omniglot_example = omniglot_train.take(1)\n",
    "omniglot_example_iter = omniglot_example.make_initializable_iterator()\n",
    "sess.run(omniglot_example_iter.initializer)\n",
    "\n",
    "data = omniglot_example_iter.get_next()\n",
    "image = data['image']\n",
    "label = data['label']\n",
    "x, y = sess.run([image,label])\n",
    "\n",
    "X_train = resize(np.array(x[:num_classes,:,:,:])/255.0, (3, 28, 28, 1))\n",
    "y_train = np.array(y[:num_classes])"
   ]
  },
  {
   "cell_type": "code",
   "execution_count": 4,
   "metadata": {},
   "outputs": [
    {
     "name": "stdout",
     "output_type": "stream",
     "text": [
      "(3, 28, 28, 1)\n"
     ]
    },
    {
     "data": {
      "text/plain": [
       "array([512, 732, 879])"
      ]
     },
     "execution_count": 4,
     "metadata": {},
     "output_type": "execute_result"
    }
   ],
   "source": [
    "print(X_train.shape)\n",
    "y_train"
   ]
  },
  {
   "cell_type": "code",
   "execution_count": 5,
   "metadata": {},
   "outputs": [
    {
     "data": {
      "image/png": "[encoded data removed]",
      "text/plain": [
       "<Figure size 1440x1440 with 3 Axes>"
      ]
     },
     "metadata": {
      "needs_background": "light"
     },
     "output_type": "display_data"
    }
   ],
   "source": [
    "### Showing Images of the 3 classes after reshape 28x28x1\n",
    "\n",
    "plt.figure(figsize=(20,20))\n",
    "plt.subplot(131)\n",
    "imgplot = plt.imshow(X_train[0,:,:,0], cmap=\"gist_gray\")\n",
    "plt.subplot(132)\n",
    "imgplot = plt.imshow(X_train[1,:,:,0], cmap=\"gist_gray\")\n",
    "plt.subplot(133)\n",
    "imgplot = plt.imshow(X_train[2,:,:,0], cmap=\"gist_gray\")"
   ]
  },
  {
   "cell_type": "code",
   "execution_count": 6,
   "metadata": {
    "scrolled": false
   },
   "outputs": [],
   "source": [
    "res = sum([np.where(y == c)[0].tolist() for c in y_train], [])\n",
    "[res.remove(i) for i in range(num_classes)]\n",
    "\n",
    "ind = random.choice(res)\n",
    "X_predict = resize(x[ind,:,:,0]/255.0, (28,28)).reshape((1, 28, 28,1))\n",
    "y_predict = y[ind]"
   ]
  },
  {
   "cell_type": "code",
   "execution_count": 7,
   "metadata": {},
   "outputs": [
    {
     "data": {
      "image/png": "[encoded data removed]",
      "text/plain": [
       "<Figure size 432x432 with 1 Axes>"
      ]
     },
     "metadata": {
      "needs_background": "light"
     },
     "output_type": "display_data"
    }
   ],
   "source": [
    "###### Showing the image with class to predict\n",
    "\n",
    "plt.figure(figsize=(6,6))\n",
    "imgplot = plt.imshow(X_predict[0,:,:,0], cmap=\"gist_gray\")"
   ]
  },
  {
   "cell_type": "markdown",
   "metadata": {},
   "source": [
    "## Preparing the model & prediction"
   ]
  },
  {
   "cell_type": "code",
   "execution_count": 8,
   "metadata": {
    "scrolled": false
   },
   "outputs": [],
   "source": [
    "model = OmniglotModelBisonai(num_classes=3, **{'learning_rate':learning_rate})\n",
    "#model = OmniglotModelBisonai(num_classes=3)\n",
    "saver = tf.train.Saver()\n",
    "saver.restore(sess, checkpoint_path)\n",
    "\n",
    "for i in tf.all_variables():\n",
    "    if \"Adam_1\" in i.name:\n",
    "        sess.run(tf.assign(i,i/(tf.sqrt(i) + 1e-5)))"
   ]
  },
  {
   "cell_type": "code",
   "execution_count": 9,
   "metadata": {
    "scrolled": false
   },
   "outputs": [
    {
     "name": "stdout",
     "output_type": "stream",
     "text": [
      "softmax [[0.35048184 0.3112444  0.33827376]\n",
      " [0.3452464  0.3199111  0.33484253]\n",
      " [0.21899977 0.3517594  0.42924082]]\n",
      "loss [1.0484464  1.1397122  0.84573716]\n",
      "test softmax [[0.83127713 0.09334726 0.07537564]]\n",
      "softmax [[9.9999893e-01 8.6843289e-07 2.4089664e-07]\n",
      " [3.5797278e-09 9.9999994e-01 5.3894002e-08]\n",
      " [7.8261028e-06 4.3122778e-08 9.9999207e-01]]\n",
      "loss [1.072883e-06 0.000000e+00 7.867782e-06]\n",
      "test softmax [[0.8312777  0.09334707 0.07537517]]\n",
      "softmax [[9.9999893e-01 8.6841015e-07 2.4088905e-07]\n",
      " [3.5798373e-09 9.9999994e-01 5.3892720e-08]\n",
      " [7.8251596e-06 4.3121911e-08 9.9999207e-01]]\n",
      "loss [1.072883e-06 0.000000e+00 7.867782e-06]\n",
      "test softmax [[0.83127844 0.09334683 0.07537474]]\n",
      "softmax [[9.9999893e-01 8.6838736e-07 2.4087961e-07]\n",
      " [3.5799634e-09 9.9999994e-01 5.3892023e-08]\n",
      " [7.8241701e-06 4.3121013e-08 9.9999219e-01]]\n",
      "loss [1.072883e-06 0.000000e+00 7.867782e-06]\n",
      "test softmax [[0.83127904 0.09334654 0.07537445]]\n",
      "softmax [[9.9999893e-01 8.6837122e-07 2.4087123e-07]\n",
      " [3.5801071e-09 9.9999994e-01 5.3891483e-08]\n",
      " [7.8232679e-06 4.3120355e-08 9.9999219e-01]]\n",
      "loss [1.072883e-06 0.000000e+00 7.867782e-06]\n",
      "test softmax [[0.83127916 0.09334662 0.07537424]]\n",
      "The predicted class is 512 and the real class is 512.\n",
      "The probability distribution is [[0.83127916 0.09334662 0.07537424]].\n"
     ]
    }
   ],
   "source": [
    "y_train_label = np.array([0, 1, 2])\n",
    "\n",
    "adam_var = [i for i in tf.all_variables() if \"Adam_1\" in i.name]\n",
    "\n",
    "for e in range(epochs):\n",
    "    grad_temp, logits, loss, _ = sess.run([tf.gradients(model.loss, tf.trainable_variables()), model.logits, model.loss, tf.compat.v1.get_collection(tf.compat.v1.GraphKeys.UPDATE_OPS)], feed_dict={model.input_ph: X_train.reshape(X_train.shape[:3]), model.label_ph: y_train_label})\n",
    "    #print(grad_temp)\n",
    "    print(\"softmax\", softmax(logits))\n",
    "    print(\"loss\", loss)\n",
    "    for i,j,k in zip(tf.trainable_variables(), grad_temp, adam_var):\n",
    "        sess.run(tf.assign(i,i-j*k*learning_rate))\n",
    "        #print(sess.run(j*k*learning_rate))\n",
    "    logits = sess.run(model.logits, feed_dict={model.input_ph: X_predict.reshape(X_predict.shape[:3])})\n",
    "    print(\"test softmax\", softmax(logits))\n",
    "result, logits = sess.run([model.predictions, model.logits], feed_dict={model.input_ph: X_predict.reshape(X_predict.shape[:3])})\n",
    "\n",
    "print(\"The predicted class is {} and the real class is {}.\".format(y_train[result[0]],y_predict))\n",
    "print(\"The probability distribution is {}.\".format(softmax(logits)))"
   ]
  }
 ],
 "metadata": {
  "kernelspec": {
   "display_name": "Python 3",
   "language": "python",
   "name": "python3"
  },
  "language_info": {
   "codemirror_mode": {
    "name": "ipython",
    "version": 3
   },
   "file_extension": ".py",
   "mimetype": "text/x-python",
   "name": "python",
   "nbconvert_exporter": "python",
   "pygments_lexer": "ipython3",
   "version": "3.7.3"
  }
 },
 "nbformat": 4,
 "nbformat_minor": 2
}
