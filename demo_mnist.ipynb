{
 "cells": [
  {
   "cell_type": "code",
   "execution_count": 1,
   "metadata": {},
   "outputs": [],
   "source": [
    "import tensorflow as tf\n",
    "tf.logging.set_verbosity(tf.logging.ERROR)\n",
    "\n",
    "import tensorflow_datasets as tfds\n",
    "\n",
    "import numpy as np\n",
    "import matplotlib.pyplot as plt\n",
    "from skimage.transform import resize\n",
    "import random\n",
    "\n",
    "from pretrained_models.bisonai.model import OmniglotModelBisonai"
   ]
  },
  {
   "cell_type": "code",
   "execution_count": 2,
   "metadata": {},
   "outputs": [],
   "source": [
    "### Parameters\n",
    "\n",
    "num_classes = 3\n",
    "learning_rate = 0.001\n",
    "epochs = 10\n",
    "checkpoint_path = \"pretrained_models/bisonai/1shot_3way_bisonai_ckpt_o15t/model.ckpt-99999\"\n",
    "\n",
    "def softmax(x):\n",
    "    e = np.exp(x)\n",
    "    return (e / np.sum(e, axis=1, keepdims=True))"
   ]
  },
  {
   "cell_type": "markdown",
   "metadata": {},
   "source": [
    "## Data for fine-tuning & prediction"
   ]
  },
  {
   "cell_type": "code",
   "execution_count": 3,
   "metadata": {},
   "outputs": [
    {
     "name": "stdout",
     "output_type": "stream",
     "text": [
      "(3, 28, 28, 1)\n",
      "(3,)\n"
     ]
    }
   ],
   "source": [
    "sess = tf.Session()\n",
    "\n",
    "mnist_train = tfds.load(name=\"mnist\", split=tfds.Split.TRAIN).batch(2000)\n",
    "mnist_example = mnist_train.take(1)\n",
    "mnist_example_iter = mnist_example.make_initializable_iterator()\n",
    "sess.run(mnist_example_iter.initializer)\n",
    "\n",
    "data = mnist_example_iter.get_next()\n",
    "image = data['image']\n",
    "label = data['label']\n",
    "x, y = sess.run([image,label])\n",
    "\n",
    "X_train = np.array(1-x[:num_classes,:,:,:]/255.0).reshape(3, 28, 28, 1)\n",
    "y_train = np.array(y[:num_classes])\n",
    "\n",
    "print(X_train.shape)\n",
    "print(y_train.shape)"
   ]
  },
  {
   "cell_type": "code",
   "execution_count": 4,
   "metadata": {},
   "outputs": [
    {
     "data": {
      "text/plain": [
       "array([0, 9, 4])"
      ]
     },
     "execution_count": 4,
     "metadata": {},
     "output_type": "execute_result"
    }
   ],
   "source": [
    "y_train"
   ]
  },
  {
   "cell_type": "code",
   "execution_count": 5,
   "metadata": {},
   "outputs": [
    {
     "data": {
      "image/png": "[encoded data removed]",
      "text/plain": [
       "<Figure size 1440x1440 with 3 Axes>"
      ]
     },
     "metadata": {
      "needs_background": "light"
     },
     "output_type": "display_data"
    }
   ],
   "source": [
    "### Showing Images of the 3 classes after reshape 28x28x1\n",
    "\n",
    "plt.figure(figsize=(20,20))\n",
    "plt.subplot(131)\n",
    "imgplot = plt.imshow(X_train[0,:,:,0], cmap=\"gist_gray\")\n",
    "plt.subplot(132)\n",
    "imgplot = plt.imshow(X_train[1,:,:,0], cmap=\"gist_gray\")\n",
    "plt.subplot(133)\n",
    "imgplot = plt.imshow(X_train[2,:,:,0], cmap=\"gist_gray\")\n",
    "plt.show()"
   ]
  },
  {
   "cell_type": "code",
   "execution_count": 6,
   "metadata": {},
   "outputs": [
    {
     "name": "stdout",
     "output_type": "stream",
     "text": [
      "(1, 28, 28, 1)\n"
     ]
    }
   ],
   "source": [
    "res = sum([np.where(y == c)[0].tolist() for c in y_train], [])\n",
    "[res.remove(i) for i in range(num_classes)]\n",
    "\n",
    "ind = random.choice(res)\n",
    "X_predict = np.array(1-x[ind,:,:,0]/255.0).reshape((1, 28, 28,1))\n",
    "y_predict = np.array([y[ind]])\n",
    "\n",
    "print(X_predict.shape)"
   ]
  },
  {
   "cell_type": "code",
   "execution_count": 7,
   "metadata": {},
   "outputs": [
    {
     "data": {
      "text/plain": [
       "array([0])"
      ]
     },
     "execution_count": 7,
     "metadata": {},
     "output_type": "execute_result"
    }
   ],
   "source": [
    "y_predict"
   ]
  },
  {
   "cell_type": "code",
   "execution_count": 8,
   "metadata": {},
   "outputs": [
    {
     "data": {
      "image/png": "[encoded data removed]",
      "text/plain": [
       "<Figure size 432x432 with 1 Axes>"
      ]
     },
     "metadata": {
      "needs_background": "light"
     },
     "output_type": "display_data"
    }
   ],
   "source": [
    "###### Showing the image with class to predict\n",
    "\n",
    "plt.figure(figsize=(6,6))\n",
    "imgplot = plt.imshow(X_predict[0,:,:,0], cmap=\"gist_gray\")\n",
    "plt.show()"
   ]
  },
  {
   "cell_type": "markdown",
   "metadata": {},
   "source": [
    "## Preparing the model & prediction"
   ]
  },
  {
   "cell_type": "code",
   "execution_count": 9,
   "metadata": {
    "scrolled": false
   },
   "outputs": [],
   "source": [
    "model = OmniglotModelBisonai(num_classes=3, **{'learning_rate':learning_rate})\n",
    "saver = tf.train.Saver()\n",
    "saver.restore(sess, checkpoint_path)"
   ]
  },
  {
   "cell_type": "code",
   "execution_count": 10,
   "metadata": {
    "scrolled": false
   },
   "outputs": [
    {
     "name": "stdout",
     "output_type": "stream",
     "text": [
      "The result is 0.\n",
      "The probability distribution is [[0.6483385  0.14515088 0.20651065]].\n"
     ]
    }
   ],
   "source": [
    "y_train_label = np.array([0, 1, 2])\n",
    "\n",
    "for e in range(epochs):\n",
    "    sess.run(model.minimize_op, feed_dict={model.input_ph: X_train.reshape(X_train.shape[:3]), model.label_ph:y_train_label})\n",
    "\n",
    "result, logits = sess.run([model.predictions, model.logits], feed_dict={model.input_ph: X_predict.reshape(X_predict.shape[:3])})\n",
    "\n",
    "print(\"The result is {}.\".format(y_train[result[0]]))\n",
    "print(\"The probability distribution is {}.\".format(softmax(logits)))"
   ]
  }
 ],
 "metadata": {
  "kernelspec": {
   "display_name": "Python 3",
   "language": "python",
   "name": "python3"
  },
  "language_info": {
   "codemirror_mode": {
    "name": "ipython",
    "version": 3
   },
   "file_extension": ".py",
   "mimetype": "text/x-python",
   "name": "python",
   "nbconvert_exporter": "python",
   "pygments_lexer": "ipython3",
   "version": "3.7.3"
  }
 },
 "nbformat": 4,
 "nbformat_minor": 2
}
